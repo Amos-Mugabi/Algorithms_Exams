{
  "nbformat": 4,
  "nbformat_minor": 0,
  "metadata": {
    "colab": {
      "provenance": []
    },
    "kernelspec": {
      "name": "python3",
      "display_name": "Python 3"
    },
    "language_info": {
      "name": "python"
    }
  },
  "cells": [
    {
      "cell_type": "markdown",
      "source": [
        "QUESTION THREE"
      ],
      "metadata": {
        "id": "-1p4oyETf-Bg"
      }
    },
    {
      "cell_type": "code",
      "source": [
        "from collections import deque\n",
        "\n",
        "\n",
        "def bfs(graph, start):\n",
        "\n",
        "    visited = set()\n",
        "    queue = deque([start])\n",
        "    visited.add(start)\n",
        "\n",
        "\n",
        "    while queue:\n",
        "        node = queue.popleft()\n",
        "        for neighbor in graph[node]:\n",
        "            if neighbor not in visited:\n",
        "                queue.append(neighbor)\n",
        "                visited.add(neighbor)\n",
        "\n",
        "    return visited\n",
        "\n",
        "\n",
        "def mutual_friends(graph, user1, user2):\n",
        "    friends_user1 = bfs(graph, user1)\n",
        "    friends_user2 = bfs(graph, user2)\n",
        "\n",
        "    mutual_friends = friends_user1.intersection(friends_user2)\n",
        "    return mutual_friends\n",
        "\n",
        "\n",
        "graph = {\n",
        "    'Agaba': ['Bob', 'Ruth'],\n",
        "    'Bob': ['Agaba', 'Okello'],\n",
        "    'Ruth': ['Agaba', 'Eve'],\n",
        "    'Okello': ['Bob'],\n",
        "    'Eve': ['Ruth']\n",
        "}\n",
        "\n",
        "\n",
        "user1 = 'Agaba'\n",
        "user2 = 'Bob'\n",
        "\n",
        "result = mutual_friends(graph, user1, user2)\n",
        "print(f\"Mutual friends between {user1} and {user2}: {result}\")\n",
        "\n"
      ],
      "metadata": {
        "colab": {
          "base_uri": "https://localhost:8080/"
        },
        "id": "mKlOyetxPVlj",
        "outputId": "9516aabf-36df-4fb8-bb61-04e9d268772e"
      },
      "execution_count": 3,
      "outputs": [
        {
          "output_type": "stream",
          "name": "stdout",
          "text": [
            "Mutual friends between Agaba and Bob: {'Ruth', 'Okello', 'Eve', 'Agaba', 'Bob'}\n"
          ]
        }
      ]
    },
    {
      "cell_type": "code",
      "source": [],
      "metadata": {
        "id": "DzF4tMISQCB8"
      },
      "execution_count": null,
      "outputs": []
    },
    {
      "cell_type": "markdown",
      "source": [
        "Pseudocode BFS(graph, start):\n",
        "\n",
        "    create an empty queue\n",
        "    enqueue start into the queue\n",
        "\n",
        "    create  array called visited\n",
        "    add start to visited\n",
        "\n",
        "    while the queue is not empty:\n",
        "        current_node = dequeue from the queue\n",
        "        operate current_node\n",
        "\n",
        "        for each neighbor in graph[current_node]:\n",
        "            if neighbor is not in visited:\n",
        "                enqueue neighbor into the queue\n",
        "                add neighbor to visited\n"
      ],
      "metadata": {
        "id": "I57bL0icPbov"
      }
    },
    {
      "cell_type": "markdown",
      "source": [
        "Time Complexity:\n",
        "\n",
        "The time complexity is O(V + E), where V is the number of vertices and E is the number of edges in the graph. This is because each vertex and each edge is visited once. In the worst case, BFS visits all vertices and edges in the graph.\n",
        "\n",
        "Space Complexity:\n",
        "\n",
        "In the worst case, the space complexity is O(V), where V is the number of vertices (users) in the graph. This is because the BFS algorithm uses a queue to store the nodes to be visited, and in the worst case, all nodes might be added to the queue"
      ],
      "metadata": {
        "id": "7iuoCQcUPhIE"
      }
    },
    {
      "cell_type": "markdown",
      "source": [
        "QUESTION ONE"
      ],
      "metadata": {
        "id": "l9NHVlgifOKD"
      }
    },
    {
      "cell_type": "code",
      "source": [
        "\n",
        "\n",
        "print(\"WELCOME TO KAWOOMELA RESTAURANT\\n \\n RESTAURANT MENU BILL:\\n \")\n",
        "\n",
        "def calculate_total_cost(order_items, menu, memo={}):\n",
        "\n",
        "\n",
        "    # Check if the total cost for the current order_items is already memoized\n",
        "\n",
        "    if tuple(order_items) in memo:\n",
        "        return memo[tuple(order_items)]\n",
        "\n",
        "    total_cost = 0\n",
        "\n",
        "    # Calculating the total cost\n",
        "\n",
        "    for item in order_items:\n",
        "        if item in menu:\n",
        "            total_cost += menu[item]\n",
        "        else:\n",
        "            print(f\"Item {item} not found in the menu.\")\n",
        "\n",
        "\n",
        "    # Memoizing\n",
        "\n",
        "    memo[tuple(order_items)] = total_cost\n",
        "\n",
        "    return total_cost\n",
        "\n",
        "\n",
        "\n",
        "menu = {\"Rice\": 5000, \"fries\": 7000, \"Soda\": 2000, \"dessert\": 3000, \"Potatoes\": 5500,\n",
        "        \"Matooke\": 6000, \"Water\": 1500, \"Fruits Platter\": 4500,\"goat meat\": 12000,\"Yams\": 4000,\"Chicken\": 9000,}\n",
        "\n",
        "order_1 = [\"fries\", \"Rice\", \"Soda\"]\n",
        "order_2 = [\"Rice\", \"Matooke\", \"dessert\", \"Water\"]\n",
        "\n",
        "total_cost1 = calculate_total_cost(order_1, menu)\n",
        "print(f\"Total cost for order1: {total_cost1} Ugx\")\n",
        "\n",
        "total_cost2 = calculate_total_cost(order_2, menu)\n",
        "print(f\"Total cost for order2: {total_cost2} Ugx\")\n",
        "\n",
        "result_cost = total_cost1 + total_cost2\n",
        "\n",
        "print(f\" \\n Mr/Mrs:....... the Total cost for all your orders is {result_cost} Ugx. \\n\")\n",
        "\n",
        "print(\"Thank you for supporting KAWOOMELA RESTAURANT.\\n \\n Hope to see you again.\")"
      ],
      "metadata": {
        "colab": {
          "base_uri": "https://localhost:8080/"
        },
        "id": "LEb74pL1X1Z0",
        "outputId": "0c4f4210-8d0d-4caf-eed3-34d301169365"
      },
      "execution_count": 24,
      "outputs": [
        {
          "output_type": "stream",
          "name": "stdout",
          "text": [
            "WELCOME TO KAWOOMELA RESTAURANT\n",
            " \n",
            " RESTAURANT MENU BILL:\n",
            " \n",
            "Total cost for order1: 14000 Ugx\n",
            "Total cost for order2: 15500 Ugx\n",
            " \n",
            " Mr/Mrs:....... the Total cost for all your orders is 29500 Ugx. \n",
            "\n",
            "Thank you for supporting KAWOOMELA RESTAURANT.\n",
            " \n",
            " Hope to see you again.\n"
          ]
        }
      ]
    }
  ]
}